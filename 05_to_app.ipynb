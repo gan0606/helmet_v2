{
 "cells": [
  {
   "cell_type": "code",
   "execution_count": 2,
   "metadata": {},
   "outputs": [],
   "source": [
    "import streamlit as st"
   ]
  },
  {
   "cell_type": "markdown",
   "metadata": {},
   "source": [
    "## アプリの構築"
   ]
  },
  {
   "cell_type": "code",
   "execution_count": 4,
   "metadata": {},
   "outputs": [
    {
     "name": "stdout",
     "output_type": "stream",
     "text": [
      "Overwriting app.py\n"
     ]
    }
   ],
   "source": [
    "%%writefile app.py\n",
    "import streamlit as st\n",
    "import shutil\n",
    "import cv2\n",
    "from PIL import Image\n",
    "from ultralytics import YOLO\n",
    "import os\n",
    "\n",
    "# pyplotを使用する際に注記が出ないようにする文\n",
    "st.set_option(\"deprecation.showPyplotGlobalUse\", False)\n",
    "\n",
    "# 関数化する\n",
    "def main():\n",
    "    # タイトル\n",
    "    st.title(\"YOLOv8による物体検出\")\n",
    "    st.subheader(\"ヘルメット着用義務違反監視システム\")\n",
    "    st.write(\"最終更新日: 2024/5/2\")\n",
    "\n",
    "    # サイドバーのmenu\n",
    "    menu = [\"概要\", \"分類結果\", \"画像シュミレーター\"]\n",
    "    # サイドバーの作成\n",
    "    chosen_menu = st.sidebar.selectbox(\n",
    "        \"menu選択\", menu\n",
    "    )\n",
    "\n",
    "    # ファイルの設定\n",
    "    # 訓練済みのモデルファイル\n",
    "\n",
    "    # 分類対象の画像\n",
    "    object_file = \"train_imgs_with_bbox.jpg\"\n",
    "    # テストデータの結果\n",
    "    result_file = \"detecting2.jpg\"\n",
    "    # modelの読み込み\n",
    "    model_file = \"runs/detect/train/weights/best.pt\"\n",
    "\n",
    "\n",
    "    # 読み込めているかを確認\n",
    "    is_object_file = os.path.isfile(object_file)\n",
    "    is_result_file = os.path.isfile(result_file)\n",
    "    is_model_file = os.path.isfile(model_file)\n",
    "\n",
    "    # printで出力すると、ターミナルに出る\n",
    "    # st.writeだとブラウザ上に出る\n",
    "    print(is_object_file)\n",
    "    print(is_result_file)\n",
    "    print(is_model_file)\n",
    "    \n",
    "    \n",
    "\n",
    "    # menuの中身\n",
    "    # 分析の概要\n",
    "    if chosen_menu == \"概要\":\n",
    "        st.subheader(\"分析概要\")\n",
    "        st.write(\"転移学習と呼ばれる手法を活用することで、花の画像を5種類に自動で分類するシステムを作りました。\")\n",
    "        st.write(\"転移学習について\")\n",
    "        st.write(\n",
    "            \"\"\"\n",
    "            転移学習とは、あるタスクで学習したモデルを別のタスクに適用するディープラーニングの手法です。\n",
    "            この分析では、一般公開されているDenseNet121というモデルを使用しました。\n",
    "            DenseNet121は、ImageNetなどの大規模なデータセットで事前学習されたモデルが公開されており、転移学習に適しています。\n",
    "        \"\"\"\n",
    "        )\n",
    "        st.subheader(\"データセットの内容\")\n",
    "        st.write(\"このデータセットは、5種類の異なる花卉（ひなぎく・タンポポ・バラ・ひまわり・チューリップ）の画像が合わせて4242枚含まれています。\")\n",
    "        st.write(\n",
    "            \"\"\"\n",
    "            データセットを8:2の割合で訓練データとテストデータに分割し、\n",
    "            モデルを再訓練した後にテストデータを用いて評価を行いました。\n",
    "            この評価により、モデルの汎化性能を確認することができました。\n",
    "            \"\"\"\n",
    "            )\n",
    "        st.write(\" \")\n",
    "        st.write(\" \")\n",
    "        st.text(\"訓練データの一部\")\n",
    "        # 画像の表示\n",
    "        image_object = Image.open(object_file)\n",
    "        st.image(image_object)\n",
    "       \n",
    "    # 分類の結果\n",
    "    elif chosen_menu == \"分類結果\":\n",
    "        st.subheader(\"分類結果\")\n",
    "        # 結果の表示\n",
    "        image_result = Image.open(result_file)\n",
    "        st.image(image_result)\n",
    "\n",
    "        # 結果についての説明\n",
    "        st.write(\"構築したニューラルネットワークは未知のデータに対して89.81%の精度で分類を行うことができました。\")\n",
    "        st.write(\"上記の画像はテストデータのうち16枚を可視化したものです。\")\n",
    "        st.write(\"画像のtrueは正解ラベルを示し、predictはモデルを使用して予測したラベルを示しています。\")\n",
    "\n",
    "    elif chosen_menu == \"画像シュミレーター\":\n",
    "        st.subheader(\"画像シュミレーター\")\n",
    "        st.write(\"訓練したAIでアップロードされた花の画像を分類します。\")\n",
    "        st.write(\"分類できる花の種類は、ひなぎく・タンポポ・バラ・ひまわり・チューリップです。\")\n",
    "        # 空白行\n",
    "        st.write(\"\")\n",
    "        # ラジオボタンの作成\n",
    "        img_source = st.radio(\"画像のソースを選択してください\", (\"画像をアップロード\", \"カメラで撮影\"))\n",
    "\n",
    "        # 画像のアップロード\n",
    "        if img_source == \"画像をアップロード\":\n",
    "            # ファイルをアップロード\n",
    "            img_file = st.file_uploader(\"画像を選択してください\", type=[\"png\", \"jpg\"])\n",
    "        # カメラで撮影する場合\n",
    "        elif img_source == \"カメラで撮影\":\n",
    "            # カメラ撮影\n",
    "            img_file = st.camera_input(\"カメラで撮影\")\n",
    "\n",
    "        # 推定の処理\n",
    "        # img_fileが存在する場合に処理を進める\n",
    "        if img_file is not None:\n",
    "            # 特定の処理が行われていることを知らせる\n",
    "            with st.spinner(\"推定中です...\"):\n",
    "                # 画像ファイルを開く\n",
    "                img = Image.open(img_file)\n",
    "                # 画面に画像を表示\n",
    "                st.image(img, caption=\"予測対象画像\", width=480)\n",
    "\n",
    "                # 空白行\n",
    "                st.write(\"\")\n",
    "\n",
    "                # 予測\n",
    "                model = YOLO(model_file).cpu()\n",
    "                results = model(img)\n",
    "                os.makedirs(\"result\", exist_ok=True)\n",
    "                for r in results:\n",
    "                    img = r.plot()\n",
    "                    cv2.imwrite(\"result/detect_0.jpg\", img)\n",
    "\n",
    "                # 結果の表示\n",
    "                st.subheader(\"検出結果\")\n",
    "                result_path = \"result/detect_0.jpg\"\n",
    "                result_img = cv2.imread(result_path)\n",
    "                shutil.rmtree(\"result\")\n",
    "                st.image(result_img, caption=\"検出済み画像\", width=480)\n",
    "\n",
    "\n",
    "               \n",
    "\n",
    "# streamlitを実行したときにmain()を実行するという表記\n",
    "if __name__ == \"__main__\":\n",
    "    main()\n"
   ]
  },
  {
   "cell_type": "code",
   "execution_count": 4,
   "metadata": {},
   "outputs": [
    {
     "name": "stdout",
     "output_type": "stream",
     "text": [
      "4.9.0\n"
     ]
    }
   ],
   "source": [
    "import cv2\n",
    "print(cv2.__version__)"
   ]
  },
  {
   "cell_type": "markdown",
   "metadata": {},
   "source": [
    "## requirements.txtの作成"
   ]
  },
  {
   "cell_type": "code",
   "execution_count": 7,
   "metadata": {},
   "outputs": [
    {
     "name": "stdout",
     "output_type": "stream",
     "text": [
      "streamlit==1.32.2\n",
      "cv2==4.9.0\n",
      "Pillow==10.3.0\n",
      "ultralytics==8.2.2\n"
     ]
    }
   ],
   "source": [
    "# app.pyで使用したライブラリのバージョンを確認\n",
    "import streamlit\n",
    "import cv2\n",
    "import PIL\n",
    "import ultralytics\n",
    "\n",
    "\n",
    "print(\"streamlit==\" + streamlit.__version__)\n",
    "print(\"cv2==\" + cv2.__version__)\n",
    "print(\"Pillow==\" + PIL.__version__)\n",
    "print(\"ultralytics==\" + ultralytics.__version__)"
   ]
  },
  {
   "cell_type": "code",
   "execution_count": 8,
   "metadata": {},
   "outputs": [],
   "source": [
    "# requirements.txtに記述\n",
    "with open(\"requirements.txt\", \"w\") as w:\n",
    "    w.write(\"streamlit==1.32.2\\n\")\n",
    "    w.write(\"cv2==4.9.0\\n\")\n",
    "    w.write(\"Pillow==10.3.0\\n\")\n",
    "    w.write(\"ultralytics==8.2.2\\n\")"
   ]
  },
  {
   "cell_type": "code",
   "execution_count": null,
   "metadata": {},
   "outputs": [],
   "source": []
  },
  {
   "cell_type": "code",
   "execution_count": null,
   "metadata": {},
   "outputs": [],
   "source": []
  },
  {
   "cell_type": "code",
   "execution_count": null,
   "metadata": {},
   "outputs": [],
   "source": []
  },
  {
   "cell_type": "code",
   "execution_count": null,
   "metadata": {},
   "outputs": [],
   "source": []
  },
  {
   "cell_type": "code",
   "execution_count": null,
   "metadata": {},
   "outputs": [],
   "source": []
  }
 ],
 "metadata": {
  "kernelspec": {
   "display_name": "py_310_yolo",
   "language": "python",
   "name": "python3"
  },
  "language_info": {
   "codemirror_mode": {
    "name": "ipython",
    "version": 3
   },
   "file_extension": ".py",
   "mimetype": "text/x-python",
   "name": "python",
   "nbconvert_exporter": "python",
   "pygments_lexer": "ipython3",
   "version": "3.10.14"
  }
 },
 "nbformat": 4,
 "nbformat_minor": 2
}
