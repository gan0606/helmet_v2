{
 "cells": [
  {
   "cell_type": "code",
   "execution_count": 2,
   "metadata": {},
   "outputs": [],
   "source": [
    "import streamlit as st"
   ]
  },
  {
   "cell_type": "markdown",
   "metadata": {},
   "source": [
    "## アプリの構築"
   ]
  },
  {
   "cell_type": "code",
   "execution_count": 18,
   "metadata": {},
   "outputs": [
    {
     "name": "stdout",
     "output_type": "stream",
     "text": [
      "Overwriting app.py\n"
     ]
    }
   ],
   "source": [
    "%%writefile app.py\n",
    "import streamlit as st\n",
    "import shutil\n",
    "import cv2\n",
    "from PIL import Image\n",
    "from ultralytics import YOLO\n",
    "import os\n",
    "\n",
    "# pyplotを使用する際に注記が出ないようにする文\n",
    "st.set_option(\"deprecation.showPyplotGlobalUse\", False)\n",
    "\n",
    "# 関数化する\n",
    "def main():\n",
    "    # タイトル\n",
    "    st.title(\"YOLOv8による物体検出\")\n",
    "    st.subheader(\"ヘルメット着用義務違反監視システム\")\n",
    "    st.write(\"最終更新日: 2024/5/2\")\n",
    "\n",
    "    # サイドバーのmenu\n",
    "    menu = [\"概要\", \"検出結果\", \"物体検出マシン\"]\n",
    "    # サイドバーの作成\n",
    "    chosen_menu = st.sidebar.selectbox(\n",
    "        \"menu選択\", menu\n",
    "    )\n",
    "\n",
    "    # ファイルの設定\n",
    "    # 訓練済みのモデルファイル\n",
    "\n",
    "    # 分類対象の画像\n",
    "    object_file = \"train_imgs_with_bbox.jpg\"\n",
    "    # テストデータの結果\n",
    "    result_file = \"detecting2.jpg\"\n",
    "    # modelの読み込み\n",
    "    model_file = \"runs/detect/train/weights/best.pt\"\n",
    "\n",
    "\n",
    "    # 読み込めているかを確認\n",
    "    is_object_file = os.path.isfile(object_file)\n",
    "    is_result_file = os.path.isfile(result_file)\n",
    "    is_model_file = os.path.isfile(model_file)\n",
    "\n",
    "    # printで出力すると、ターミナルに出る\n",
    "    # st.writeだとブラウザ上に出る\n",
    "    print(is_object_file)\n",
    "    print(is_result_file)\n",
    "    print(is_model_file)\n",
    "    \n",
    "    \n",
    "\n",
    "    # menuの中身\n",
    "    # 分析の概要\n",
    "    if chosen_menu == \"概要\":\n",
    "        st.subheader(\"開発の概要\")\n",
    "        st.write(\"YOLOv8モデルをファインチューニングして画像の中から物体を検出できるAIを開発しました。\")\n",
    "        st.write(\"YOLOv8について\")\n",
    "        st.write(\n",
    "            \"\"\"\n",
    "            YOLOv8は、リアルタイム物体検出に特化した深層学習モデルです。速度と精度の面で最先端の性能を実現しています。\n",
    "            主な応用先としては、自動運転・監視カメラ・ドローンなどがあります。\n",
    "        \"\"\"\n",
    "        )\n",
    "        st.write(\"ファインチューニングについて\")\n",
    "        st.write(\n",
    "            \"\"\"\n",
    "            ファインチューニングとは、公開されている学習済みのモデルを特定のタスクやデータセットに微調整する機械学習の手法です。\n",
    "            ゼロからモデルを学習するよりも、短時間でモデルを特定のタスクに適応させることができます。\n",
    "\n",
    "        \"\"\"\n",
    "        )\n",
    "        st.subheader(\"データセットの内容\")\n",
    "        st.write(\n",
    "            \"\"\"\n",
    "        モデルの訓練に使用したデータセットには、建設現場や製造現場などの職場で安全ヘルメットを着用している労働者の画像と、\n",
    "        着用していない画像が合わせて7035枚(訓練情報: 5269枚, テスト情報: 1766枚)含まれています。\n",
    "        また27039件の詳細なアノテーション情報も含まれています。\n",
    "        アノテーション情報とは画像に対して付加された補足情報のことです。\n",
    "        データセットには、安全ヘルメット着用状況(helmet)と、頭部(head)、人物(person)の位置とサイズのアノテーション情報が含まれています。\n",
    "        \"\"\"\n",
    "        )\n",
    "        st.write(\n",
    "            \"\"\"\n",
    "        5269枚の訓練情報を8:2の割合で訓練データと検証データに分割し、\n",
    "        モデルを再訓練した後に検証データを用いて評価を行いました。\n",
    "        この評価により、モデルの汎化性能を確認することができました。\n",
    "            \"\"\"\n",
    "            )\n",
    "        st.write(\" \")\n",
    "        st.write(\" \")\n",
    "        st.write(\"訓練情報の一部\")\n",
    "        st.write(\"訓練画像の一部にアノテーション情報を描画しました。\")\n",
    "        # 画像の表示\n",
    "        image_object = Image.open(object_file)\n",
    "        st.image(image_object)\n",
    "       \n",
    "    # 分類の結果\n",
    "    elif chosen_menu == \"検出結果\":\n",
    "        st.subheader(\"検出結果\")\n",
    "        # 結果の表示\n",
    "        image_result = Image.open(result_file)\n",
    "        st.image(image_result)\n",
    "\n",
    "        # 結果についての説明\n",
    "        st.write(\n",
    "            \"\"\"\n",
    "        安全ヘルメット着用検出モデルは、未知のデータにおいて、\n",
    "        人物(person)の検出精度が2%と低かった一方、ヘルメット(97%)と頭部(93%)の検出精度に関しては高い性能を発揮することを示しました。\n",
    "        \"\"\")\n",
    "        st.write(\"上記の画像はテストデータのうち9枚を可視化したものです。\")\n",
    "        st.write(\n",
    "            \"\"\"\n",
    "        人物(person)の検出精度が低かった原因としては、helmet, headに対して訓練情報が少なかったことが考えられます。\n",
    "            \"\"\")\n",
    "\n",
    "    elif chosen_menu == \"物体検出マシン\":\n",
    "        st.subheader(\"物体検出マシン\")\n",
    "        st.write(\"訓練したAIでアップロードされた画像の中からhead・helmet・personを検出します。\")\n",
    "        # 空白行\n",
    "        st.write(\"\")\n",
    "        # ラジオボタンの作成\n",
    "        img_source = st.radio(\"画像のソースを選択してください\", (\"画像をアップロード\", \"カメラで撮影\"))\n",
    "\n",
    "        # 画像のアップロード\n",
    "        if img_source == \"画像をアップロード\":\n",
    "            # ファイルをアップロード\n",
    "            img_file = st.file_uploader(\"画像を選択してください\", type=[\"png\", \"jpg\"])\n",
    "        # カメラで撮影する場合\n",
    "        elif img_source == \"カメラで撮影\":\n",
    "            # カメラ撮影\n",
    "            img_file = st.camera_input(\"カメラで撮影\")\n",
    "\n",
    "        # 推定の処理\n",
    "        # img_fileが存在する場合に処理を進める\n",
    "        if img_file is not None:\n",
    "            # 特定の処理が行われていることを知らせる\n",
    "            with st.spinner(\"推定中です...\"):\n",
    "                # 画像ファイルを開く\n",
    "                img = Image.open(img_file)\n",
    "                # 画面に画像を表示\n",
    "                st.subheader(\"アップロードされた画像\")\n",
    "                st.image(img, caption=\"検出対象画像\", width=480)\n",
    "\n",
    "                # 空白行\n",
    "                st.write(\"\")\n",
    "\n",
    "                # 予測\n",
    "                model = YOLO(model_file).cpu()\n",
    "                results = model(img)\n",
    "                os.makedirs(\"result\", exist_ok=True)\n",
    "                for r in results:\n",
    "                    img = r.plot()\n",
    "                    cv2.imwrite(\"result/detect_0.jpg\", img)\n",
    "\n",
    "                # 結果の表示\n",
    "                st.subheader(\"検出結果\")\n",
    "                result_path = \"result/detect_0.jpg\"\n",
    "                result_img = cv2.imread(result_path)\n",
    "                result_img = cv2.cvtColor(result_img, cv2.COLOR_BGR2RGB)\n",
    "                shutil.rmtree(\"result\")\n",
    "                st.image(result_img, caption=\"検出済み画像\", width=480)\n",
    "\n",
    "\n",
    "               \n",
    "\n",
    "# streamlitを実行したときにmain()を実行するという表記\n",
    "if __name__ == \"__main__\":\n",
    "    main()\n"
   ]
  },
  {
   "cell_type": "markdown",
   "metadata": {},
   "source": [
    "## requirements.txtの作成"
   ]
  },
  {
   "cell_type": "code",
   "execution_count": 12,
   "metadata": {},
   "outputs": [
    {
     "name": "stdout",
     "output_type": "stream",
     "text": [
      "streamlit==1.32.2\n",
      "opencv-python-headless==4.9.0\n",
      "Pillow==10.3.0\n",
      "ultralytics==8.2.2\n"
     ]
    }
   ],
   "source": [
    "# app.pyで使用したライブラリのバージョンを確認\n",
    "import streamlit\n",
    "import cv2\n",
    "import PIL\n",
    "import ultralytics\n",
    "\n",
    "\n",
    "print(\"streamlit==\" + streamlit.__version__)\n",
    "print(\"opencv-python-headless==\" + cv2.__version__)\n",
    "print(\"Pillow==\" + PIL.__version__)\n",
    "print(\"ultralytics==\" + ultralytics.__version__)"
   ]
  },
  {
   "cell_type": "markdown",
   "metadata": {},
   "source": [
    "### opencvはopencv-python-4.6.0.66でしかstreamlitcloud上で動かなかったのでそれを使用"
   ]
  },
  {
   "cell_type": "code",
   "execution_count": 11,
   "metadata": {},
   "outputs": [],
   "source": [
    "# requirements.txtに記述\n",
    "with open(\"requirements.txt\", \"w\") as w:\n",
    "    w.write(\"streamlit==1.32.2\\n\")\n",
    "    w.write(\"opencv-python-headless==4.6.0.66\\n\")\n",
    "    w.write(\"Pillow==10.3.0\\n\")\n",
    "    w.write(\"ultralytics==8.2.2\\n\")"
   ]
  },
  {
   "cell_type": "code",
   "execution_count": null,
   "metadata": {},
   "outputs": [],
   "source": []
  },
  {
   "cell_type": "code",
   "execution_count": null,
   "metadata": {},
   "outputs": [],
   "source": []
  },
  {
   "cell_type": "code",
   "execution_count": null,
   "metadata": {},
   "outputs": [],
   "source": []
  },
  {
   "cell_type": "code",
   "execution_count": null,
   "metadata": {},
   "outputs": [],
   "source": []
  },
  {
   "cell_type": "code",
   "execution_count": null,
   "metadata": {},
   "outputs": [],
   "source": []
  }
 ],
 "metadata": {
  "kernelspec": {
   "display_name": "py_310_yolo",
   "language": "python",
   "name": "python3"
  },
  "language_info": {
   "codemirror_mode": {
    "name": "ipython",
    "version": 3
   },
   "file_extension": ".py",
   "mimetype": "text/x-python",
   "name": "python",
   "nbconvert_exporter": "python",
   "pygments_lexer": "ipython3",
   "version": "3.10.14"
  }
 },
 "nbformat": 4,
 "nbformat_minor": 2
}
