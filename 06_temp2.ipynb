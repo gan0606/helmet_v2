{
 "cells": [
  {
   "cell_type": "code",
   "execution_count": 1,
   "metadata": {},
   "outputs": [],
   "source": [
    "import streamlit as st\n",
    "import shutil\n",
    "import cv2\n",
    "from PIL import Image\n",
    "from ultralytics import YOLO\n",
    "import os\n",
    "import matplotlib.pyplot as plt\n",
    "import numpy as np"
   ]
  },
  {
   "cell_type": "code",
   "execution_count": 3,
   "metadata": {},
   "outputs": [
    {
     "name": "stdout",
     "output_type": "stream",
     "text": [
      "\n",
      "image 1/1 c:\\Users\\yuuki\\Kaggle\\object_detection_try\\helmet_v2\\app\\..\\free_image\\01.jpg: 288x416 2 helmets, 193.3ms\n",
      "Speed: 7.0ms preprocess, 193.3ms inference, 1647.5ms postprocess per image at shape (1, 3, 288, 416)\n",
      "結果の表示\n"
     ]
    }
   ],
   "source": [
    "import cv2\n",
    "import shutil\n",
    "from ultralytics import YOLO\n",
    "\n",
    "# 元画像のpath\n",
    "img = \"../free_image/01.jpg\"\n",
    "\n",
    "# モデルの読み込み\n",
    "model = YOLO(\"../runs/detect/train/weights/best.pt\").cpu()\n",
    "# 推論\n",
    "results = model(img)\n",
    "# 結果の保存先\n",
    "os.makedirs(\"result\", exist_ok=True)\n",
    "\n",
    "# bboxの描画\n",
    "for r in results:\n",
    "    img = r.plot()\n",
    "    cv2.imwrite(\"result/detect_0.jpg\", img)\n",
    "\n",
    "print(\"結果の表示\")\n",
    "result_path = \"result/detect_0.jpg\"\n",
    "# bboxを描画した画像の読み込み\n",
    "result_img = cv2.imread(result_path)\n",
    "shutil.rmtree(\"result\")\n",
    "cv2.imshow(\"detect_from_your_image\", result_img)\n",
    "cv2.waitKey(0)\n",
    "cv2.destroyAllWindows()"
   ]
  },
  {
   "cell_type": "code",
   "execution_count": 6,
   "metadata": {},
   "outputs": [
    {
     "name": "stdout",
     "output_type": "stream",
     "text": [
      "Overwriting temp.py\n"
     ]
    }
   ],
   "source": [
    "%%writefile temp.py\n",
    "import streamlit as st\n",
    "\n",
    "st.video(\"inference2_movies/sample5_inference2.mp4\")"
   ]
  },
  {
   "cell_type": "code",
   "execution_count": null,
   "metadata": {},
   "outputs": [],
   "source": []
  }
 ],
 "metadata": {
  "kernelspec": {
   "display_name": "py_310_yolo",
   "language": "python",
   "name": "python3"
  },
  "language_info": {
   "codemirror_mode": {
    "name": "ipython",
    "version": 3
   },
   "file_extension": ".py",
   "mimetype": "text/x-python",
   "name": "python",
   "nbconvert_exporter": "python",
   "pygments_lexer": "ipython3",
   "version": "3.10.14"
  }
 },
 "nbformat": 4,
 "nbformat_minor": 2
}
