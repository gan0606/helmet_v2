{
 "cells": [
  {
   "cell_type": "code",
   "execution_count": 1,
   "metadata": {},
   "outputs": [],
   "source": [
    "from ultralytics import YOLO\n",
    "from IPython.display import Image"
   ]
  },
  {
   "cell_type": "markdown",
   "metadata": {},
   "source": [
    "## 推論"
   ]
  },
  {
   "cell_type": "code",
   "execution_count": 2,
   "metadata": {},
   "outputs": [
    {
     "name": "stdout",
     "output_type": "stream",
     "text": [
      "Ultralytics YOLOv8.2.2 🚀 Python-3.10.14 torch-2.2.2+cu118 CUDA:0 (NVIDIA GeForce RTX 4060 Laptop GPU, 8188MiB)\n",
      "Model summary (fused): 268 layers, 68126457 parameters, 0 gradients, 257.4 GFLOPs\n",
      "\n",
      "image 1/4 C:\\Users\\yuuki\\Kaggle\\object_detection_try\\helmet\\original_data\\01.jpg: 288x416 1 helmet, 86.3ms\n",
      "image 2/4 C:\\Users\\yuuki\\Kaggle\\object_detection_try\\helmet\\original_data\\02.jpg: 416x416 1 helmet, 18.5ms\n",
      "image 3/4 C:\\Users\\yuuki\\Kaggle\\object_detection_try\\helmet\\original_data\\03.jpg: 320x416 4 helmets, 89.1ms\n",
      "image 4/4 C:\\Users\\yuuki\\Kaggle\\object_detection_try\\helmet\\original_data\\04.jpg: 320x416 3 heads, 16.0ms\n",
      "Speed: 1.3ms preprocess, 52.5ms inference, 350.3ms postprocess per image at shape (1, 3, 320, 416)\n",
      "Results saved to \u001b[1mruns\\detect\\predict\u001b[0m\n",
      "💡 Learn more at https://docs.ultralytics.com/modes/predict\n"
     ]
    }
   ],
   "source": [
    "!yolo task=detect mode=predict model=C:/Users/yuuki/Kaggle/object_detection_try/helmet/runs/detect/train3/weights/best.pt source=\"C:/Users/yuuki/Kaggle/object_detection_try/helmet/original_data/*.jpg\" imgsz=416 save=True"
   ]
  },
  {
   "cell_type": "code",
   "execution_count": 3,
   "metadata": {},
   "outputs": [
    {
     "name": "stdout",
     "output_type": "stream",
     "text": [
      "Ultralytics YOLOv8.2.2 🚀 Python-3.10.14 torch-2.2.2+cu118 CUDA:0 (NVIDIA GeForce RTX 4060 Laptop GPU, 8188MiB)\n",
      "Model summary (fused): 268 layers, 68126457 parameters, 0 gradients, 257.4 GFLOPs\n",
      "\n",
      "image 1/6 C:\\Users\\yuuki\\Kaggle\\object_detection_try\\helmet\\original_data\\01.jpg: 288x416 1 helmet, 82.1ms\n",
      "image 2/6 C:\\Users\\yuuki\\Kaggle\\object_detection_try\\helmet\\original_data\\02.jpg: 416x416 1 helmet, 17.9ms\n",
      "image 3/6 C:\\Users\\yuuki\\Kaggle\\object_detection_try\\helmet\\original_data\\03.jpg: 320x416 4 helmets, 84.6ms\n",
      "image 4/6 C:\\Users\\yuuki\\Kaggle\\object_detection_try\\helmet\\original_data\\04.jpg: 320x416 3 heads, 15.0ms\n",
      "image 5/6 C:\\Users\\yuuki\\Kaggle\\object_detection_try\\helmet\\original_data\\05.jpg: 288x416 5 helmets, 15.0ms\n",
      "image 6/6 C:\\Users\\yuuki\\Kaggle\\object_detection_try\\helmet\\original_data\\06.jpg: 320x416 1 head, 1 helmet, 16.0ms\n",
      "Speed: 0.9ms preprocess, 38.4ms inference, 226.6ms postprocess per image at shape (1, 3, 320, 416)\n",
      "Results saved to \u001b[1mruns\\detect\\predict2\u001b[0m\n",
      "💡 Learn more at https://docs.ultralytics.com/modes/predict\n"
     ]
    }
   ],
   "source": [
    "!yolo task=detect mode=predict model=C:/Users/yuuki/Kaggle/object_detection_try/helmet/runs/detect/train3/weights/best.pt source=\"C:/Users/yuuki/Kaggle/object_detection_try/helmet/original_data/*.jpg\" imgsz=416 save=True"
   ]
  },
  {
   "cell_type": "code",
   "execution_count": null,
   "metadata": {},
   "outputs": [],
   "source": []
  },
  {
   "cell_type": "code",
   "execution_count": null,
   "metadata": {},
   "outputs": [],
   "source": []
  },
  {
   "cell_type": "code",
   "execution_count": null,
   "metadata": {},
   "outputs": [],
   "source": []
  },
  {
   "cell_type": "code",
   "execution_count": null,
   "metadata": {},
   "outputs": [],
   "source": []
  },
  {
   "cell_type": "code",
   "execution_count": null,
   "metadata": {},
   "outputs": [],
   "source": []
  },
  {
   "cell_type": "code",
   "execution_count": null,
   "metadata": {},
   "outputs": [],
   "source": []
  }
 ],
 "metadata": {
  "kernelspec": {
   "display_name": "Python 3 (ipykernel)",
   "language": "python",
   "name": "python3"
  },
  "language_info": {
   "codemirror_mode": {
    "name": "ipython",
    "version": 3
   },
   "file_extension": ".py",
   "mimetype": "text/x-python",
   "name": "python",
   "nbconvert_exporter": "python",
   "pygments_lexer": "ipython3",
   "version": "3.11.5"
  }
 },
 "nbformat": 4,
 "nbformat_minor": 4
}
